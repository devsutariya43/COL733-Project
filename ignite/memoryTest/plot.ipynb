{
 "cells": [
  {
   "cell_type": "code",
   "execution_count": 2,
   "metadata": {},
   "outputs": [
    {
     "name": "stdout",
     "output_type": "stream",
     "text": [
      "(1, 0.654) (2, 0.439) (4, 0.33725) (6, 0.3253333333333333) (8, 0.27337500000000003) (12, 0.25033333333333335) (16, 0.2855333333333333) (24, 0.25433333333333336) (32, 0.28984374999999996) (48, 0.4164583333333333) (64, 0.619390625) \n",
      "(1, 1.529051987767584) (2, 2.277951607797963) (4, 2.965293868287336) (6, 3.074553990181974) (8, 3.65891705429295) (12, 3.995399381680405) (16, 3.5068046461824323) (24, 3.940002560719891) (32, 3.4504221985445196) (48, 2.4014368284730625) (64, 1.614622223188393) \n"
     ]
    }
   ],
   "source": [
    "# Redefine the data after the code execution environment was reset\n",
    "data2 = {\n",
    "    \"NUM WORKERS\": [1, 1, 1, 2, 2, 2, 4, 4, 4, 6, 6, 6, 8, 8, 8, 12, 12, 12, 16, 16, 16, 24, 24, 24, 32, 32, 32, 48, 48, 48, 64, 64, 64],\n",
    "    \"OPR TYPE\": [\"WRITE\", \"READ\", \"MIXED\", \"WRITE\", \"READ\", \"MIXED\", \"WRITE\", \"READ\", \"MIXED\", \"WRITE\", \"READ\", \"MIXED\", \"WRITE\", \"READ\", \"MIXED\", \n",
    "                 \"WRITE\", \"READ\", \"MIXED\", \"WRITE\", \"READ\", \"MIXED\", \"WRITE\", \"READ\", \"MIXED\", \"WRITE\", \"READ\", \"MIXED\", \"WRITE\", \"READ\", \"MIXED\", \n",
    "                 \"WRITE\", \"READ\", \"MIXED\"],\n",
    "    \"LATENCY (ms)\": [1.322, 0.618, 0.654, 0.793, 0.548, 0.439, 0.6005, 0.346, 0.33725, 0.39166666666666666, 0.242, 0.3253333333333333, 0.41125, \n",
    "                     0.2405, 0.27337500000000003, 0.6960000000000001, 0.23883333333333334, 0.25033333333333335, 0.370625, 0.28525, 0.2855333333333333, \n",
    "                     0.31625, 0.2648333333333333, 0.25433333333333336, 0.37251612903225806, 0.2510625, 0.28984374999999996, 0.509, 0.3672916666666666, \n",
    "                     0.4164583333333333, 0.70775, 0.4993015873015873, 0.619390625],\n",
    "    \"THROUGHPUT (ops/ms)\": [0.75642965204236, 1.6181229773462784, 1.529051987767584, 1.2610841825375623, 1.8248418248418248, 2.277951607797963, \n",
    "                            1.6655931749907877, 2.8902216958465248, 2.965293868287336, 2.553400693667163, 4.132610118517895, 3.074553990181974, \n",
    "                            2.431638737028991, 4.161730968482156, 3.65891705429295, 1.4368730941645207, 4.187967299438813, 3.995399381680405, \n",
    "                            2.6995428428372343, 3.508922747425978, 3.5068046461824323, 3.1630827927191603, 3.7774476506345707, 3.940002560719891, \n",
    "                            2.684058475284463, 3.9835940971318764, 3.4504221985445196, 1.9653075118451804, 2.7231050707676245, 2.4014368284730625, \n",
    "                            1.4132758933626237, 2.0033484600736307, 1.614622223188393]\n",
    "}\n",
    "\n",
    "# Creating tuples (NUM WORKERS, LATENCY) and (NUM WORKERS, THROUGHPUT)\n",
    "num_workers_latency = list(zip(data2[\"NUM WORKERS\"], data2[\"LATENCY (ms)\"]))\n",
    "num_workers_throughput = list(zip(data2[\"NUM WORKERS\"], data2[\"THROUGHPUT (ops/ms)\"]))\n",
    "\n",
    "num_workers_latency, num_workers_throughput\n",
    "\n",
    "l1 = \"\"\n",
    "l2 = \"\"\n",
    "for i in range(2, len(num_workers_latency), 3):\n",
    "    l1 += str(num_workers_latency[i]) + \" \"\n",
    "    l2 += str(num_workers_throughput[i]) + \" \"\n",
    "\n",
    "print(l1)\n",
    "print(l2)\n",
    "\n"
   ]
  },
  {
   "cell_type": "code",
   "execution_count": 10,
   "metadata": {},
   "outputs": [
    {
     "name": "stdout",
     "output_type": "stream",
     "text": [
      "Operation: write\n",
      "Latency String: \n",
      "Throughput String: \n",
      "\n",
      "Operation: read\n",
      "Latency String: \n",
      "Throughput String: \n",
      "\n",
      "Operation: mixed\n",
      "Latency String: \n",
      "Throughput String: \n",
      "\n"
     ]
    }
   ],
   "source": [
    "import pandas as pd\n",
    "\n",
    "# Define the column names\n",
    "column_names = [\"NUM NODES\", \"OPR TYPE\", \"LATENCY (ms)\", \"THROUGHPUT (ops/ms)\"]\n",
    "\n",
    "\n",
    "data = pd.read_csv(\"scalabilty.csv\", names=column_names, delimiter=\"|\")\n",
    "\n",
    "# Dictionary to store results for each operation type\n",
    "results = {\"write\": {\"latency\": \"\", \"throughput\": \"\"},\n",
    "           \"read\": {\"latency\": \"\", \"throughput\": \"\"},\n",
    "           \"mixed\": {\"latency\": \"\", \"throughput\": \"\"}}\n",
    "\n",
    "# Process the data\n",
    "for opr_type in results.keys():\n",
    "    # Filter rows by operation type\n",
    "    filtered_data = data[data[\"OPR TYPE\"] == opr_type]\n",
    "    \n",
    "    # Create the latency and throughput strings\n",
    "    latency_string = \" \".join(f\"({int(row['NUM NODES'])}, {row['LATENCY (ms)']:.4f})\" for _, row in filtered_data.iterrows())\n",
    "    throughput_string = \" \".join(f\"({int(row['NUM NODES'])}, {row['THROUGHPUT (ops/ms)']:.4f})\" for _, row in filtered_data.iterrows())\n",
    "    \n",
    "    # Store the results\n",
    "    results[opr_type][\"latency\"] = latency_string\n",
    "    results[opr_type][\"throughput\"] = throughput_string\n",
    "\n",
    "# Print the results\n",
    "for opr_type, result in results.items():\n",
    "    print(f\"Operation: {opr_type}\")\n",
    "    print(f\"Latency String: {result['latency']}\")\n",
    "    print(f\"Throughput String: {result['throughput']}\")\n",
    "    print()"
   ]
  },
  {
   "cell_type": "code",
   "execution_count": null,
   "metadata": {},
   "outputs": [],
   "source": []
  }
 ],
 "metadata": {
  "kernelspec": {
   "display_name": "Python 3",
   "language": "python",
   "name": "python3"
  },
  "language_info": {
   "codemirror_mode": {
    "name": "ipython",
    "version": 3
   },
   "file_extension": ".py",
   "mimetype": "text/x-python",
   "name": "python",
   "nbconvert_exporter": "python",
   "pygments_lexer": "ipython3",
   "version": "3.12.3"
  }
 },
 "nbformat": 4,
 "nbformat_minor": 2
}
